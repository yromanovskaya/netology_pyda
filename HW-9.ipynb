{
 "cells": [
  {
   "cell_type": "markdown",
   "metadata": {},
   "source": [
    "# Задание 1\n",
    "Напишите функцию date_range, которая возвращает список дней между датами start_date и end_date. Даты должны вводиться в формате YYYY-MM-DD."
   ]
  },
  {
   "cell_type": "code",
   "execution_count": 1,
   "metadata": {},
   "outputs": [],
   "source": [
    "from datetime import datetime\n",
    "from datetime import timedelta"
   ]
  },
  {
   "cell_type": "code",
   "execution_count": 21,
   "metadata": {},
   "outputs": [],
   "source": [
    "def date_range(start_date, end_date):\n",
    "    start_date_datetime = datetime.strptime(start_date, '%Y-%m-%d')\n",
    "    end_date_datetime = datetime.strptime(end_date, '%Y-%m-%d')\n",
    "    days_list = []\n",
    "    date = start_date_datetime\n",
    "    while date <= end_date_datetime:\n",
    "        days_list.append(datetime.strftime(date, '%Y-%m-%d'))\n",
    "        date += timedelta(days=1)\n",
    "    return days_list"
   ]
  },
  {
   "cell_type": "code",
   "execution_count": 22,
   "metadata": {},
   "outputs": [
    {
     "data": {
      "text/plain": [
       "['2019-01-01',\n",
       " '2019-01-02',\n",
       " '2019-01-03',\n",
       " '2019-01-04',\n",
       " '2019-01-05',\n",
       " '2019-01-06',\n",
       " '2019-01-07',\n",
       " '2019-01-08',\n",
       " '2019-01-09',\n",
       " '2019-01-10',\n",
       " '2019-01-11',\n",
       " '2019-01-12',\n",
       " '2019-01-13',\n",
       " '2019-01-14',\n",
       " '2019-01-15',\n",
       " '2019-01-16',\n",
       " '2019-01-17',\n",
       " '2019-01-18',\n",
       " '2019-01-19',\n",
       " '2019-01-20',\n",
       " '2019-01-21',\n",
       " '2019-01-22',\n",
       " '2019-01-23',\n",
       " '2019-01-24',\n",
       " '2019-01-25',\n",
       " '2019-01-26',\n",
       " '2019-01-27',\n",
       " '2019-01-28',\n",
       " '2019-01-29',\n",
       " '2019-01-30']"
      ]
     },
     "execution_count": 22,
     "metadata": {},
     "output_type": "execute_result"
    }
   ],
   "source": [
    "date_range('2019-01-01', '2019-01-30')"
   ]
  },
  {
   "cell_type": "markdown",
   "metadata": {},
   "source": [
    "# Задание 2\n",
    "Дополните функцию из первого задания проверкой на корректность дат. В случае неверного формата или если start_date > end_date должен возвращаться пустой список."
   ]
  },
  {
   "cell_type": "code",
   "execution_count": 55,
   "metadata": {},
   "outputs": [],
   "source": [
    "def date_range__(start_date, end_date):\n",
    "    days_list = []\n",
    "    try:\n",
    "        start_date_datetime = datetime.strptime(start_date, '%Y-%m-%d')\n",
    "        end_date_datetime = datetime.strptime(end_date, '%Y-%m-%d')\n",
    "        date = start_date_datetime\n",
    "      \n",
    "        while date <= end_date_datetime:\n",
    "            days_list.append(datetime.strftime(date, '%Y-%m-%d'))\n",
    "            date += timedelta(days=1)\n",
    "        \n",
    "        return days_list\n",
    "    except:\n",
    "        return days_list"
   ]
  },
  {
   "cell_type": "code",
   "execution_count": 60,
   "metadata": {},
   "outputs": [
    {
     "data": {
      "text/plain": [
       "[]"
      ]
     },
     "execution_count": 60,
     "metadata": {},
     "output_type": "execute_result"
    }
   ],
   "source": [
    "date_range__('2019-02-01', '20199-01-29')"
   ]
  },
  {
   "cell_type": "markdown",
   "metadata": {},
   "source": [
    "# Задание 3\n",
    "Дан поток дат в формате YYYY-MM-DD, в которых встречаются некорректные значения:\n",
    "stream = [‘2018-04-02’, ‘2018-02-29’, ‘2018-19-02’]\n",
    "\n",
    "Напишите функцию, которая проверяет эти даты на корректность. Т. е. для каждой даты возвращает True (дата корректна) или False (некорректная дата)."
   ]
  },
  {
   "cell_type": "code",
   "execution_count": 65,
   "metadata": {},
   "outputs": [],
   "source": [
    "def check (stream):\n",
    "    stream_check = []\n",
    "    for date_in_stream in stream:\n",
    "        try:\n",
    "            datetime.strptime(date_in_stream, '%Y-%m-%d')\n",
    "            stream_check.append(True)\n",
    "        except:\n",
    "            stream_check.append(False)\n",
    "    return stream_check"
   ]
  },
  {
   "cell_type": "code",
   "execution_count": 66,
   "metadata": {},
   "outputs": [
    {
     "data": {
      "text/plain": [
       "[True, False, False]"
      ]
     },
     "execution_count": 66,
     "metadata": {},
     "output_type": "execute_result"
    }
   ],
   "source": [
    "check(['2018-04-02', '2018-02-29', '2018-19-02'])"
   ]
  },
  {
   "cell_type": "markdown",
   "metadata": {},
   "source": [
    "# Задание 5\n",
    "В последнем примере поиска по словарю мы использовали 3 столбца. Напишите функцию, которая формирует словарь для поиска по n столбцам."
   ]
  },
  {
   "cell_type": "code",
   "execution_count": 15,
   "metadata": {},
   "outputs": [],
   "source": [
    "stats_dict = {}\n",
    "\n",
    "with open('stats.csv') as f:\n",
    "    for line in f:\n",
    "        line = line.strip().split(',')\n",
    "        stats_dict[tuple(line[0:-1])] = line[-1]"
   ]
  },
  {
   "cell_type": "code",
   "execution_count": 16,
   "metadata": {},
   "outputs": [
    {
     "name": "stdout",
     "output_type": "stream",
     "text": [
      "('14', '26376', '3') 13301\n"
     ]
    }
   ],
   "source": [
    "for key, value in stats_dict.items():\n",
    "    print(key, value)\n",
    "    break"
   ]
  }
 ],
 "metadata": {
  "kernelspec": {
   "display_name": "Python 3",
   "language": "python",
   "name": "python3"
  },
  "language_info": {
   "codemirror_mode": {
    "name": "ipython",
    "version": 3
   },
   "file_extension": ".py",
   "mimetype": "text/x-python",
   "name": "python",
   "nbconvert_exporter": "python",
   "pygments_lexer": "ipython3",
   "version": "3.7.3"
  }
 },
 "nbformat": 4,
 "nbformat_minor": 2
}
