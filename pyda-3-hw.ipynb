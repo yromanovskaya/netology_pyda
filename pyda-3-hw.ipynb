{
 "cells": [
  {
   "cell_type": "markdown",
   "metadata": {},
   "source": [
    "## Задание 1"
   ]
  },
  {
   "cell_type": "markdown",
   "metadata": {},
   "source": [
    "Дан список вида:"
   ]
  },
  {
   "cell_type": "code",
   "execution_count": 35,
   "metadata": {},
   "outputs": [],
   "source": [
    "data = [\n",
    "    [13, 25, 23, 34],\n",
    "    [45, 32, 44, 47],\n",
    "    [12, 33, 23, 95],\n",
    "    [13, 53, 34, 35],\n",
    "]"
   ]
  },
  {
   "cell_type": "code",
   "execution_count": 36,
   "metadata": {},
   "outputs": [
    {
     "data": {
      "text/plain": [
       "103"
      ]
     },
     "execution_count": 36,
     "metadata": {},
     "output_type": "execute_result"
    }
   ],
   "source": [
    "def sum_matrix_diagonal(matrix):\n",
    "    \"\"\"\n",
    "    Возвращает сумму значений главной диагонали матрицы\n",
    "\n",
    "    \"\"\"\n",
    "    row = len(matrix[1])\n",
    "    colomn = len(matrix)\n",
    "    diagonal = []\n",
    "    if row < colomn:\n",
    "        for i in range(row):\n",
    "            diagonal.append(matrix[i][i])\n",
    "    else: \n",
    "        for i in range(colomn):\n",
    "            diagonal.append(matrix[i][i])\n",
    "    return(sum(diagonal))\n",
    "\n",
    "sum_matrix_diagonal(data)"
   ]
  },
  {
   "cell_type": "markdown",
   "metadata": {},
   "source": [
    "Напишите функцию, которая возвращает сумму элементов на диагонали. Т. е. 13+32+23+35."
   ]
  },
  {
   "cell_type": "markdown",
   "metadata": {},
   "source": [
    "## Задание 2"
   ]
  },
  {
   "cell_type": "markdown",
   "metadata": {},
   "source": [
    "Дан список чисел, часть из которых имеют строковый тип или содержат буквы. Напишите функцию, которая возвращает сумму квадратов элементов, которые могут быть числами."
   ]
  },
  {
   "cell_type": "code",
   "execution_count": 42,
   "metadata": {},
   "outputs": [],
   "source": [
    "data = [1, '5', 'abc', 20, '2']"
   ]
  },
  {
   "cell_type": "code",
   "execution_count": 62,
   "metadata": {},
   "outputs": [
    {
     "data": {
      "text/plain": [
       "430"
      ]
     },
     "execution_count": 62,
     "metadata": {},
     "output_type": "execute_result"
    }
   ],
   "source": [
    "def summ_sqr_nums(data_list):\n",
    "    \"\"\"\n",
    "    Возвращает сумму квадратов эдлеметнов списка, которые могут быть числами\n",
    "    \n",
    "    \"\"\"\n",
    "    nums_list = []\n",
    "    for i in data_list:\n",
    "        if type(i) == int:\n",
    "            nums_list.append(i**2)\n",
    "        elif type(i) == str and str.isdigit(i) == True:\n",
    "            nums_list.append(int(i)**2)\n",
    "      \n",
    "    return(sum(nums_list))\n",
    "\n",
    "summ_sqr_nums(data)    "
   ]
  },
  {
   "cell_type": "markdown",
   "metadata": {},
   "source": [
    "## Задание 3"
   ]
  },
  {
   "cell_type": "markdown",
   "metadata": {},
   "source": [
    "Напишите функцию, возвращающую сумму первых n чисел Фибоначчи."
   ]
  },
  {
   "cell_type": "code",
   "execution_count": 99,
   "metadata": {},
   "outputs": [],
   "source": [
    "def fibonacci(n):\n",
    "    if n == 0:\n",
    "        return [0]\n",
    "    elif n == 1:\n",
    "        return [0,1]\n",
    "    else:\n",
    "        fibonacci_nums = fibonacci(n-1)\n",
    "        fibonacci_nums.append(fibonacci_nums[-1] + fibonacci_nums[-2])\n",
    "        return fibonacci_nums"
   ]
  },
  {
   "cell_type": "code",
   "execution_count": 102,
   "metadata": {},
   "outputs": [
    {
     "name": "stdout",
     "output_type": "stream",
     "text": [
      "143\n"
     ]
    }
   ],
   "source": [
    "def sum_fibonacci(n):\n",
    "    return print(sum(fibonacci(n)))\n",
    "\n",
    "sum_fibonacci(10)"
   ]
  },
  {
   "cell_type": "markdown",
   "metadata": {},
   "source": [
    "## Задание 4"
   ]
  },
  {
   "cell_type": "markdown",
   "metadata": {},
   "source": [
    "Дан набор данных об обучении студентов на курсе программирования, который содержит: \n",
    "1) имя\n",
    "2) фамилию \n",
    "3) пол \n",
    "4) наличие у студента опыта в программировании \n",
    "5) набор оценок за домашние работы \n",
    "6) оценку за итоговую работу.\n",
    "\n",
    "Напишите программу, которая будет принимать команду от пользователя и возвращать соотвествующий результат.\n",
    "Список команд: \n",
    "1 - вывести на экран среднюю оценку за все ДЗ по группе и вывести на экран среднюю оценку за экзамен по группе;\n",
    "2 - вывести среднюю оценку за ДЗ и за экзамен по группе в разрезе пола студентов\n",
    "3 - вывести среднюю оценку за ДЗ и за экзамен в разрезе наличия опыта в программировании у студентов.\n",
    "\n",
    "Прогрмма должна быть полностью декомпозирована на функции (кроме объявления функций и вызова итоговой функции в реализации ничего быть не должно)."
   ]
  },
  {
   "cell_type": "code",
   "execution_count": 45,
   "metadata": {},
   "outputs": [],
   "source": [
    "students_list = [\n",
    "    {'name': 'Василий', 'surname': 'Теркин', 'sex': 'м', 'program_exp': True, 'grade': [8, 8, 9, 10, 9], 'exam': 9},\n",
    "    {'name': 'Мария', 'surname': 'Павлова', 'sex': 'ж', 'program_exp': True, 'grade': [7, 8, 9, 7, 9], 'exam': 8},\n",
    "    {'name': 'Ирина', 'surname': 'Андреева', 'sex': 'ж', 'program_exp': True, 'grade': [10, 9, 8, 10, 10], 'exam': 10},\n",
    "    {'name': 'Татьяна', 'surname': 'Сидорова', 'sex': 'ж', 'program_exp': True, 'grade': [7, 8, 8, 9, 8], 'exam': 8},\n",
    "    {'name': 'Иван', 'surname': 'Васильев', 'sex': 'ж', 'program_exp': True, 'grade': [9, 8, 9, 6, 9], 'exam': 10},\n",
    "    {'name': 'Роман', 'surname': 'Золотарев', 'sex': 'ж', 'program_exp': False, 'grade': [8, 9, 9, 6, 9], 'exam': 10}\n",
    "]"
   ]
  },
  {
   "cell_type": "code",
   "execution_count": 49,
   "metadata": {},
   "outputs": [
    {
     "name": "stdout",
     "output_type": "stream",
     "text": [
      "Спиоск команд: 1 - вывести на экран среднюю оценку за все ДЗ по группе и вывести на экран среднюю оценку за экзамен по группе; 2 - вывести среднюю оценку за ДЗ и за экзамен по группе в разрезе пола студентов; 3 - вывести среднюю оценку за ДЗ и за экзамен в разрезе наличия опыта в программировании у студентов.\n",
      "Введите номер команды: 3\n"
     ]
    }
   ],
   "source": [
    "def mean_all(lst):\n",
    "    \"\"\"выводит на экран среднюю оценку за все ДЗ по группе и вывести на экран среднюю оценку за экзамен по группе\"\"\"\n",
    "    student_hw_mean = []\n",
    "    student_exam = []\n",
    "    for info_student in lst:\n",
    "        student_hw_mean.append(sum(info_student.get('grade')) / max(len(info_student.get('grade')),1))\n",
    "    for info_student in lst:\n",
    "        student_exam.append(int(info_student.get('exam')))\n",
    "    return f'Средняя оценка за ДЗ: {round(sum(student_hw_mean) / max(len(student_hw_mean),1),2)},\\\n",
    "        средняя оценка за экзамен: {round (sum(student_exam) / max(len(student_exam),1),2)}'\n",
    "     \n",
    "\n",
    "\n",
    "def mean_sex(lst):\n",
    "    \"\"\"выводит среднюю оценку за ДЗ и за экзамен по группе в разрезе пола студентов\"\"\"\n",
    "    w_hw_mean = []\n",
    "    m_hw_mean = []\n",
    "    w_exam = []\n",
    "    m_exam = []\n",
    "    for info_student in lst:\n",
    "        if info_student.get('sex') == 'м':\n",
    "            m_hw_mean.append(sum(info_student.get('grade')) / max(len(info_student.get('grade')),1))\n",
    "        elif info_student.get('sex') == 'ж':\n",
    "            w_hw_mean.append(sum(info_student.get('grade')) / max(len(info_student.get('grade')),1)) \n",
    "    for info_student in lst:\n",
    "        if info_student.get('sex') == 'м':\n",
    "            m_exam.append(int(info_student.get('exam')))\n",
    "        elif info_student.get('sex') == 'ж':\n",
    "            w_exam.append(int(info_student.get('exam')))\n",
    "            \n",
    "    return print(f'Средняя оценка у женщин за ДЗ : {round(sum(w_hw_mean) / max(len(w_hw_mean),1),2)}, \\\n",
    "    за экзамен: {round(sum(w_exam) / max(len(w_exam),1),2)}.\\\n",
    "    Средняя оценка у мужчин за ДЗ: {round(sum(m_hw_mean) / max(len(m_hw_mean),1),2)}\\\n",
    "    за экзамен: {round(sum(m_exam) / max(len(m_exam),1),2)}')\n",
    "\n",
    "\n",
    "def mean_exp(lst):\n",
    "    \"\"\"выводит среднюю оценку за ДЗ и за экзамен в разрезе наличия опыта в программировании у студентов\"\"\"\n",
    "    t_hw_mean = []\n",
    "    f_hw_mean = []\n",
    "    t_exam = []\n",
    "    f_exam = []\n",
    "    for info_student in lst:\n",
    "        if info_student.get('program_exp') == True:\n",
    "            t_hw_mean.append(sum(info_student.get('grade')) / max(len(info_student.get('grade')),1))\n",
    "        else: \n",
    "            w_hw_mean.append(sum(info_student.get('grade')) / max(len(info_student.get('grade')),1)) \n",
    "    for info_student in lst:\n",
    "        if info_student.get('program_exp') == True:\n",
    "            t_exam.append(int(info_student.get('exam')))\n",
    "        else:\n",
    "            f_exam.append(int(info_student.get('exam')))\n",
    "            \n",
    "    return print(f'Средняя оценка у студентов с опытом программирования за ДЗ:\\\n",
    "    {round(sum(t_hw_mean) / max(len(t_hw_mean),1),2)}, за экзамен:  {round(sum(t_exam) / max(len(t_exam),1),2)}.\\\n",
    "    Cредняя оценка у студентов без опыта программирования за ДЗ: {round(sum(f_hw_mean) / max(len(f_hw_mean),1),2)},\\\n",
    "    за экзамен: {round(sum(f_exam) / max(len(f_exam),1),2)}')\n",
    "  \n",
    "    \n",
    "print('Спиоск команд: 1 - вывести на экран среднюю оценку за все ДЗ по группе и вывести на экран среднюю оценку за экзамен по группе; 2 - вывести среднюю оценку за ДЗ и за экзамен по группе в разрезе пола студентов; 3 - вывести среднюю оценку за ДЗ и за экзамен в разрезе наличия опыта в программировании у студентов.')\n",
    "command = input('Введите номер команды: ')\n",
    "\n",
    "def input_command(students_list,command):\n",
    "    if command == '1':\n",
    "        return mean_all(students_list)\n",
    "    elif command == '2':\n",
    "        return mean_sex(students_list)\n",
    "    elif command == '3':\n",
    "        return print('ghbdtn')\n",
    "#         return mean_exp(students_list)\n",
    "    return 'Нет информации'\n"
   ]
  }
 ],
 "metadata": {
  "kernelspec": {
   "display_name": "Python 3",
   "language": "python",
   "name": "python3"
  },
  "language_info": {
   "codemirror_mode": {
    "name": "ipython",
    "version": 3
   },
   "file_extension": ".py",
   "mimetype": "text/x-python",
   "name": "python",
   "nbconvert_exporter": "python",
   "pygments_lexer": "ipython3",
   "version": "3.7.3"
  }
 },
 "nbformat": 4,
 "nbformat_minor": 2
}
